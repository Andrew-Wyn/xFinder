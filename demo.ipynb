{
 "cells": [
  {
   "cell_type": "markdown",
   "metadata": {},
   "source": [
    "# Demo"
   ]
  },
  {
   "cell_type": "code",
   "execution_count": null,
   "metadata": {},
   "outputs": [],
   "source": [
    "from xfinder.eval import Evaluator"
   ]
  },
  {
   "cell_type": "markdown",
   "metadata": {},
   "source": [
    "### Example"
   ]
  },
  {
   "cell_type": "code",
   "execution_count": null,
   "metadata": {},
   "outputs": [],
   "source": [
    "!CUDA_VISIBLE_DEVICES=0 python -m xfinder.eval --run-example --model-name xFinder-qwen1505 --inference-mode local --model-path-or-url /path/to/anonymized/model/xFinder-qwen1505"
   ]
  },
  {
   "cell_type": "markdown",
   "metadata": {},
   "source": [
    "### Usage"
   ]
  },
  {
   "cell_type": "code",
   "execution_count": null,
   "metadata": {},
   "outputs": [],
   "source": [
    "# Initialize Evaluator object\n",
    "evaluator = Evaluator(\n",
    "    model_name=\"xFinder-qwen1505\",   # Model name\n",
    "    inference_mode=\"api\",            # Inference mode, 'local' or 'api'\n",
    "    model_path_or_url=\"http://your-anonymized-url/generate\",  # Anonymized model path or URL\n",
    ")\n",
    "\n",
    "# Perform batch evaluation\n",
    "data_path = \"/path/to/your/data/example.json\"  # User needs to provide their own data path\n",
    "accuracy = evaluator.evaluate(data_path)\n",
    "\n",
    "print(f\"Batch evaluation accuracy: {accuracy}\")"
   ]
  },
  {
   "cell_type": "code",
   "execution_count": null,
   "metadata": {},
   "outputs": [],
   "source": [
    "# Initialize Evaluator object\n",
    "evaluator = Evaluator(\n",
    "    model_name=\"xFinder-qwen1505\",   # Model name\n",
    "    inference_mode=\"local\",            # Inference mode, 'local' or 'api'\n",
    "    model_path_or_url=\"IAAR-Shanghai/xFinder-qwen1505\",  # Anonymized model path or URL\n",
    ")\n",
    "\n",
    "# Define input for a single evaluation\n",
    "question = \"What is the capital of France?\"\n",
    "llm_output = \"The capital of France is Paris.\"\n",
    "standard_answer_range = \"[\\\"Paris\\\", \\\"Lyon\\\", \\\"Marseille\\\"]\"\n",
    "key_answer_type = \"short_text\"\n",
    "correct_answer = \"Paris\"\n",
    "\n",
    "# Perform single example evaluation\n",
    "result = evaluator.evaluate_single_example(\n",
    "    question,\n",
    "    llm_output,\n",
    "    standard_answer_range,\n",
    "    key_answer_type,\n",
    "    correct_answer\n",
    ")\n",
    "\n",
    "print(f\"Single example evaluation result: {result}\")"
   ]
  }
 ],
 "metadata": {
  "kernelspec": {
   "display_name": "Python 3",
   "language": "python",
   "name": "python3"
  },
  "language_info": {
   "codemirror_mode": {
    "name": "ipython",
    "version": 3
   },
   "file_extension": ".py",
   "mimetype": "text/x-python",
   "name": "python",
   "nbconvert_exporter": "python",
   "pygments_lexer": "ipython3",
   "version": "3.10.15"
  }
 },
 "nbformat": 4,
 "nbformat_minor": 2
}
